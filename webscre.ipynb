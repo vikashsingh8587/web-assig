{
 "cells": [
  {
   "cell_type": "code",
   "execution_count": 1,
   "id": "ab3436a3-9c6c-41d6-853e-d34be7c7fc5e",
   "metadata": {},
   "outputs": [],
   "source": [
    "#Q1. What is Web Scraping? Why is it Used? Give three areas where Web Scraping is used to get data."
   ]
  },
  {
   "cell_type": "code",
   "execution_count": 2,
   "id": "7e9ac4e5-0c44-4fbe-8261-f0b90bc34e75",
   "metadata": {},
   "outputs": [
    {
     "data": {
      "text/plain": [
       "'\\nWeb scraping is an automatic method to obtain large amounts of data from websites. Most of this data is unstructured data in an HTML format which is then converted into structured data in a spreadsheet or a database so that it can be used in various applications.\\nThere are many different ways to perform web scraping to obtain data from websites.\\n Email Marketing\\nSentiment Analysis\\n News Monitoring\\n Market Research\\n'"
      ]
     },
     "execution_count": 2,
     "metadata": {},
     "output_type": "execute_result"
    }
   ],
   "source": [
    "'''\n",
    "Web scraping is an automatic method to obtain large amounts of data from websites. Most of this data is unstructured data in an HTML format which is then converted into structured data in a spreadsheet or a database so that it can be used in various applications.\n",
    "There are many different ways to perform web scraping to obtain data from websites.\n",
    " Email Marketing\n",
    "Sentiment Analysis\n",
    " News Monitoring\n",
    " Market Research\n",
    "'''"
   ]
  },
  {
   "cell_type": "code",
   "execution_count": 3,
   "id": "dfbfec91-6e74-4eb0-a9ca-75c5b92dfdc6",
   "metadata": {},
   "outputs": [],
   "source": [
    "#Q2. What are the different methods used for Web Scraping?"
   ]
  },
  {
   "cell_type": "code",
   "execution_count": 4,
   "id": "6a4b27fa-0e6f-4d0b-a634-c66d0db17027",
   "metadata": {},
   "outputs": [
    {
     "data": {
      "text/plain": [
       "'\\nThe most common techniques used for Web Scraping are\\n\\nHuman copy-and-paste.\\nText pattern matching.\\nHTTP programming.\\nHTML parsing.\\nDOM parsing.\\nVertical aggregation.\\nSemantic annotation recognizing.\\nComputer vision web-page analysis\\n'"
      ]
     },
     "execution_count": 4,
     "metadata": {},
     "output_type": "execute_result"
    }
   ],
   "source": [
    "'''\n",
    "The most common techniques used for Web Scraping are\n",
    "\n",
    "Human copy-and-paste.\n",
    "Text pattern matching.\n",
    "HTTP programming.\n",
    "HTML parsing.\n",
    "DOM parsing.\n",
    "Vertical aggregation.\n",
    "Semantic annotation recognizing.\n",
    "Computer vision web-page analysis\n",
    "'''"
   ]
  },
  {
   "cell_type": "code",
   "execution_count": 5,
   "id": "7ec0ae9b-1d71-49a9-972b-127e4d62e1f2",
   "metadata": {},
   "outputs": [],
   "source": [
    "#Q3. What is Beautiful Soup? Why is it used?"
   ]
  },
  {
   "cell_type": "code",
   "execution_count": 6,
   "id": "bd9ee3d9-661b-4171-8bde-0a22b1b42ed7",
   "metadata": {},
   "outputs": [
    {
     "data": {
      "text/plain": [
       "'\\nIn short, Beautiful Soup is a python package which allows us to pull data out of HTML and XML documents. As BeautifulSoup is not a standard python library, we need to install it first. We are going to install\\nthe BeautifulSoup 4 library (also known as BS4), which is the latest one. it is used to beatify the html documentation.\\n\\n'"
      ]
     },
     "execution_count": 6,
     "metadata": {},
     "output_type": "execute_result"
    }
   ],
   "source": [
    "'''\n",
    "In short, Beautiful Soup is a python package which allows us to pull data out of HTML and XML documents. As BeautifulSoup is not a standard python library, we need to install it first. We are going to install\n",
    "the BeautifulSoup 4 library (also known as BS4), which is the latest one. it is used to beatify the html documentation.\n",
    "\n",
    "'''"
   ]
  },
  {
   "cell_type": "code",
   "execution_count": 7,
   "id": "1399e86a-8501-45ef-bff2-7124f683c5f4",
   "metadata": {},
   "outputs": [],
   "source": [
    "#Q4. Why is flask used in this Web Scraping project?"
   ]
  },
  {
   "cell_type": "code",
   "execution_count": 8,
   "id": "299003ae-d66b-406f-976c-d7f0318b39ce",
   "metadata": {},
   "outputs": [
    {
     "data": {
      "text/plain": [
       "'\\n\" In a web scraping project, Flask can be used to build a web interface or API that allows users to interact with the web scraper and access the data that hasn\", \" been scraped. For example, you could use Flask to build a simple web application that allows users to enter a URL and extract all the hyperlinks from the page.\\n'"
      ]
     },
     "execution_count": 8,
     "metadata": {},
     "output_type": "execute_result"
    }
   ],
   "source": [
    "'''\n",
    "\" In a web scraping project, Flask can be used to build a web interface or API that allows users to interact with the web scraper and access the data that hasn\", \" been scraped. For example, you could use Flask to build a simple web application that allows users to enter a URL and extract all the hyperlinks from the page.\n",
    "'''"
   ]
  },
  {
   "cell_type": "code",
   "execution_count": 9,
   "id": "729b02f3-fd5d-41a4-b6fb-c259c86b9e62",
   "metadata": {},
   "outputs": [],
   "source": [
    "#Write the names of AWS services used in this project. Also, explain the use of each service."
   ]
  },
  {
   "cell_type": "code",
   "execution_count": null,
   "id": "16e2441c-ba2e-4058-82b7-ee6eb9e4996a",
   "metadata": {},
   "outputs": [],
   "source": [
    "'''\n",
    "AWS stands for Amazon Web Services. The AWS service is provided by the Amazon that uses distributed IT infrastructure to provide different IT resources available on demand. It provides different services such as infrastructure as a service (IaaS), platform as a service (PaaS) and packaged software as a service\n",
    "AWS provides end-to-end security and privacy to customers\n",
    "Scalability/Elasticit\n",
    "AWS requires no upfront investment, long-term commitment, and minimum expense when compared to traditional IT infrastructure that requires a huge investment.\n",
    "\n",
    "'''"
   ]
  }
 ],
 "metadata": {
  "kernelspec": {
   "display_name": "Python 3 (ipykernel)",
   "language": "python",
   "name": "python3"
  },
  "language_info": {
   "codemirror_mode": {
    "name": "ipython",
    "version": 3
   },
   "file_extension": ".py",
   "mimetype": "text/x-python",
   "name": "python",
   "nbconvert_exporter": "python",
   "pygments_lexer": "ipython3",
   "version": "3.10.8"
  }
 },
 "nbformat": 4,
 "nbformat_minor": 5
}
